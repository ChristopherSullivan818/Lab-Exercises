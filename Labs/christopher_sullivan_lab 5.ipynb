{
 "cells": [
  {
   "cell_type": "code",
   "execution_count": 2,
   "id": "2c7f338c",
   "metadata": {},
   "outputs": [],
   "source": [
    "! pip install selenium"
   ]
  },
  {
   "cell_type": "code",
   "execution_count": 10,
   "id": "f04b276a",
   "metadata": {},
   "outputs": [
    {
     "ename": "TypeError",
     "evalue": "'WebElement' object is not iterable",
     "output_type": "error",
     "traceback": [
      "\u001b[0;31m---------------------------------------------------------------------------\u001b[0m",
      "\u001b[0;31mTypeError\u001b[0m                                 Traceback (most recent call last)",
      "Input \u001b[0;32mIn [10]\u001b[0m, in \u001b[0;36m<cell line: 28>\u001b[0;34m()\u001b[0m\n\u001b[1;32m     29\u001b[0m content \u001b[38;5;241m=\u001b[39m WebDriverWait(driver,\u001b[38;5;241m10\u001b[39m)\u001b[38;5;241m.\u001b[39muntil(EC\u001b[38;5;241m.\u001b[39mpresence_of_element_located((By\u001b[38;5;241m.\u001b[39mCLASS_NAME, \u001b[38;5;124m\"\u001b[39m\u001b[38;5;124mmodule-content\u001b[39m\u001b[38;5;124m\"\u001b[39m)))\n\u001b[1;32m     31\u001b[0m data\u001b[38;5;241m=\u001b[39mcontent\u001b[38;5;241m.\u001b[39mfind_element(By\u001b[38;5;241m.\u001b[39mCLASS_NAME, \u001b[38;5;124m\"\u001b[39m\u001b[38;5;124mdataset-content\u001b[39m\u001b[38;5;124m\"\u001b[39m)\n\u001b[0;32m---> 33\u001b[0m \u001b[38;5;28;01mfor\u001b[39;00m i \u001b[38;5;129;01min\u001b[39;00m data:\n\u001b[1;32m     34\u001b[0m     title \u001b[38;5;241m=\u001b[39m i\u001b[38;5;241m.\u001b[39mfind_element(By\u001b[38;5;241m.\u001b[39mCLASS_NAME, \u001b[38;5;124m\"\u001b[39m\u001b[38;5;124mdataset-heading\u001b[39m\u001b[38;5;124m\"\u001b[39m)\n\u001b[1;32m     35\u001b[0m     description\u001b[38;5;241m=\u001b[39m i\u001b[38;5;241m.\u001b[39mfind_element(By\u001b[38;5;241m.\u001b[39mCLASS_NAME, \u001b[38;5;124m\"\u001b[39m\u001b[38;5;124mnotes\u001b[39m\u001b[38;5;124m\"\u001b[39m)\n",
      "\u001b[0;31mTypeError\u001b[0m: 'WebElement' object is not iterable"
     ]
    }
   ],
   "source": [
    "from selenium import webdriver\n",
    "from selenium.webdriver.common.keys import Keys\n",
    "from selenium.webdriver.common.by import By\n",
    "from selenium.webdriver.chrome.service import Service\n",
    "from selenium.webdriver.support.ui import WebDriverWait\n",
    "from selenium.webdriver.support import expected_conditions as EC\n",
    "\n",
    "import csv\n",
    "import pandas as pd\n",
    "from csv import writer\n",
    "\n",
    "PATH = Service (r\"/Applications/chromedriver\")\n",
    "driver=webdriver.Chrome(service=PATH)\n",
    "\n",
    "driver.get(\"https://data.gov/\")\n",
    "\n",
    "link=driver.find_element(By.CLASS_NAME, \"menu-data\")\n",
    "link.click()\n",
    "\n",
    "search=driver.find_element(By.ID, \"search-big\")\n",
    "search.clear()\n",
    "search.send_keys(\"climate change\")\n",
    "search.send_keys(Keys.RETURN)\n",
    "\n",
    "title_list=[]\n",
    "description_list=[]\n",
    "\n",
    "try:\n",
    "    content = WebDriverWait(driver,10).until(EC.presence_of_element_located((By.CLASS_NAME, \"module-content\")))\n",
    "    \n",
    "    data=content.find_element(By.CLASS_NAME, \"dataset-content\")\n",
    "    \n",
    "    for i in data:\n",
    "        title = i.find_element(By.CLASS_NAME, \"dataset-heading\")\n",
    "        description= i.find_element(By.CLASS_NAME, \"notes\")\n",
    "        \n",
    "        title_list.append(title.text)\n",
    "        description_list.append(description.text)\n",
    "        \n",
    "        df=pd.DataFrame(list(zip(title_list, description_list)), columns = [\"Title\", \"Description\"])\n",
    "        \n",
    "        df.to_csv(\"climate.csv\", index=False)\n",
    "        \n",
    "finally:\n",
    "    driver.quit()\n",
    "    "
   ]
  }
 ],
 "metadata": {
  "kernelspec": {
   "display_name": "Python 3 (ipykernel)",
   "language": "python",
   "name": "python3"
  },
  "language_info": {
   "codemirror_mode": {
    "name": "ipython",
    "version": 3
   },
   "file_extension": ".py",
   "mimetype": "text/x-python",
   "name": "python",
   "nbconvert_exporter": "python",
   "pygments_lexer": "ipython3",
   "version": "3.9.12"
  }
 },
 "nbformat": 4,
 "nbformat_minor": 5
}
